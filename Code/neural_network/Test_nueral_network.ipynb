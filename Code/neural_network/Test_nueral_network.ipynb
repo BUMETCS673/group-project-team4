{
 "cells": [
  {
   "cell_type": "code",
   "execution_count": 1,
   "metadata": {},
   "outputs": [],
   "source": [
    "from Recommender_Model import Recommender_Model\n",
    "from tensorflow.keras.optimizers import SGD, Adam\n",
    "from sklearn.utils import shuffle\n",
    "from sklearn.model_selection import train_test_split\n",
    "import tensorflow as tf\n",
    "import numpy as np\n",
    "import pandas as pd\n",
    "import matplotlib.pyplot as plt\n"
   ]
  },
  {
   "cell_type": "code",
   "execution_count": 2,
   "metadata": {},
   "outputs": [],
   "source": [
    "#Rui's code to preprae for training the model\n",
    "df = pd.read_csv(\"C:/Users/easht/Documents/CS 673/Movie Database/merged.csv\")\n",
    "df.userId = pd.Categorical(df.userId)\n",
    "df[\"new_user_id\"] = df.userId.cat.codes\n",
    "df.movieId = pd.Categorical(df.movieId)\n",
    "df[\"new_movie_id\"] = df.movieId.cat.codes\n",
    "# print(df.head())\n",
    "user_id = 4\n",
    "# Get user_ids , movie_ids, and ratings as separate arrays\n",
    "user_ids = df[\"new_user_id\"].values\n",
    "movie_ids = df[\"new_movie_id\"].values\n",
    "unwatched_movies_ids = df[df.userId != user_id]['new_movie_id'].values\n",
    "ratings = df[\"rating\"].values\n",
    "movie_titles = df[\"title\"].values\n",
    "df.movieId = pd.Categorical(df.movieId)\n",
    "df[\"new_movie_id\"] = df.movieId.cat.codes\n",
    "new_movie_ids = df[\"new_movie_id\"].values\n",
    "movies = {}\n",
    "for i in range(len(new_movie_ids)):\n",
    "    movies[new_movie_ids[i]] = movie_titles[i]\n",
    "\n",
    "# Get number of users and number of movies\n",
    "uNum = len(set(user_ids))\n",
    "mNum = len(set(movie_ids))\n",
    "# Set embedding dimension\n",
    "K = 50\n",
    "\n",
    "# Shuffle and split the data\n",
    "user_ids, movie_ids, ratings = shuffle(user_ids, movie_ids, ratings)\n",
    "# 4:1 train-test ratio\n",
    "brk = int(0.8 * len(user_ids))\n",
    "user_train = user_ids[:brk]\n",
    "movie_train = movie_ids[:brk]\n",
    "ratings_train = ratings[:brk]\n",
    "\n",
    "user_test = user_ids[brk:]\n",
    "movie_test = movie_ids[brk:]\n",
    "ratings_test = ratings[brk:]\n",
    "# Center the ratings (Normalization without dividing standard deviation)\n",
    "mRatings = np.mean(ratings)\n",
    "ratings_train -= mRatings\n",
    "ratings_test -= mRatings\n",
    "\n",
    "user2user_encoded = {user_ids[i]: i for i in range(len(user_ids))}\n",
    "user_encoded2user = {i: user_ids[i] for i in range(len(user_ids))}\n",
    "movie2movie_encoded = {movie_ids[i]: i for i in range(len(movie_ids))}\n",
    "movie_encoded2movie = {i: movie_ids[i] for i in range(len(movie_ids))}\n",
    "\n",
    "# unwatched_movies_ids = get_unwatched_movies_django(user_id)\n",
    "unwatched_movie_index = [[movie2movie_encoded[x]] for x in unwatched_movies_ids]\n",
    "user_encoder = user2user_encoded[user_id]\n",
    "user_movie_array = np.hstack(([[user_encoder]] * len(unwatched_movies_ids), unwatched_movie_index))"
   ]
  },
  {
   "cell_type": "code",
   "execution_count": 3,
   "metadata": {},
   "outputs": [],
   "source": [
    "#Rui's code to initialize the model\n",
    "model = Recommender_Model(K, uNum, mNum)\n",
    "model.compile(optimizer=SGD(learning_rate=1e-2, momentum=3e-1),\n",
    "                  loss=\"mse\")"
   ]
  },
  {
   "cell_type": "code",
   "execution_count": 4,
   "metadata": {},
   "outputs": [],
   "source": [
    "#Rui's code to set model parameters\n",
    "\n",
    "# Create a scheduler to change the learning rate\n",
    "def schedule(epoch, lr):\n",
    "    if epoch >= 20:\n",
    "        return 1e-3\n",
    "    return 1e-2\n",
    "    \n",
    "scheduler = tf.keras.callbacks.LearningRateScheduler(schedule)\n",
    "callback = tf.keras.callbacks.EarlyStopping(monitor='loss', patience=3)\n",
    "# Fit the model the data is an array of users and movies"
   ]
  },
  {
   "cell_type": "code",
   "execution_count": 5,
   "metadata": {},
   "outputs": [
    {
     "name": "stdout",
     "output_type": "stream",
     "text": [
      "Epoch 1/25\n",
      "15626/15626 [==============================] - 1186s 76ms/step - loss: 0.8306 - val_loss: 0.7591 - lr: 0.0100\n",
      "Epoch 2/25\n",
      "15626/15626 [==============================] - 1188s 76ms/step - loss: 0.7398 - val_loss: 0.7377 - lr: 0.0100\n",
      "Epoch 3/25\n",
      "15626/15626 [==============================] - 1190s 76ms/step - loss: 0.7219 - val_loss: 0.7245 - lr: 0.0100\n",
      "Epoch 4/25\n",
      "15626/15626 [==============================] - 1177s 75ms/step - loss: 0.7040 - val_loss: 0.7093 - lr: 0.0100\n",
      "Epoch 5/25\n",
      "15626/15626 [==============================] - 1182s 76ms/step - loss: 0.6909 - val_loss: 0.7001 - lr: 0.0100\n",
      "Epoch 6/25\n",
      "15626/15626 [==============================] - 1182s 76ms/step - loss: 0.6814 - val_loss: 0.6919 - lr: 0.0100\n",
      "Epoch 7/25\n",
      "15626/15626 [==============================] - 1184s 76ms/step - loss: 0.6720 - val_loss: 0.6924 - lr: 0.0100\n",
      "Epoch 8/25\n",
      "15626/15626 [==============================] - 1187s 76ms/step - loss: 0.6626 - val_loss: 0.6897 - lr: 0.0100\n",
      "Epoch 9/25\n",
      "15626/15626 [==============================] - 1171s 75ms/step - loss: 0.6544 - val_loss: 0.7062 - lr: 0.0100\n",
      "Epoch 10/25\n",
      "15626/15626 [==============================] - 1152s 74ms/step - loss: 0.6465 - val_loss: 0.6742 - lr: 0.0100\n",
      "Epoch 11/25\n",
      "15626/15626 [==============================] - 1151s 74ms/step - loss: 0.6374 - val_loss: 0.6762 - lr: 0.0100\n",
      "Epoch 12/25\n",
      "15626/15626 [==============================] - 1206s 77ms/step - loss: 0.6265 - val_loss: 0.6921 - lr: 0.0100\n",
      "Epoch 13/25\n",
      "15626/15626 [==============================] - 1150s 74ms/step - loss: 0.6150 - val_loss: 0.6695 - lr: 0.0100\n",
      "Epoch 14/25\n",
      "15626/15626 [==============================] - 1140s 73ms/step - loss: 0.6043 - val_loss: 0.6998 - lr: 0.0100\n",
      "Epoch 15/25\n",
      "15626/15626 [==============================] - 1140s 73ms/step - loss: 0.5943 - val_loss: 0.6552 - lr: 0.0100\n",
      "Epoch 16/25\n",
      "15626/15626 [==============================] - 1140s 73ms/step - loss: 0.5845 - val_loss: 0.6397 - lr: 0.0100\n",
      "Epoch 17/25\n",
      "15626/15626 [==============================] - 1139s 73ms/step - loss: 0.5752 - val_loss: 0.6756 - lr: 0.0100\n",
      "Epoch 18/25\n",
      "15626/15626 [==============================] - 1137s 73ms/step - loss: 0.5656 - val_loss: 0.7314 - lr: 0.0100\n",
      "Epoch 19/25\n",
      "15626/15626 [==============================] - 1137s 73ms/step - loss: 0.5564 - val_loss: 0.7408 - lr: 0.0100\n",
      "Epoch 20/25\n",
      "15626/15626 [==============================] - 1146s 73ms/step - loss: 0.5472 - val_loss: 0.6403 - lr: 0.0100\n",
      "Epoch 21/25\n",
      "15626/15626 [==============================] - 1145s 73ms/step - loss: 0.5078 - val_loss: 0.6371 - lr: 0.0010\n",
      "Epoch 22/25\n",
      "15626/15626 [==============================] - 1145s 73ms/step - loss: 0.5041 - val_loss: 0.6355 - lr: 0.0010\n",
      "Epoch 23/25\n",
      "15626/15626 [==============================] - 1145s 73ms/step - loss: 0.5017 - val_loss: 0.6356 - lr: 0.0010\n",
      "Epoch 24/25\n",
      "15626/15626 [==============================] - 1145s 73ms/step - loss: 0.4997 - val_loss: 0.6372 - lr: 0.0010\n",
      "Epoch 25/25\n",
      "15626/15626 [==============================] - 1146s 73ms/step - loss: 0.4978 - val_loss: 0.6371 - lr: 0.0010\n"
     ]
    }
   ],
   "source": [
    "#Rui's code to train the model (takes 8 hours on Eric' system)\n",
    "r = model.fit([user_train, movie_train], ratings_train, batch_size=1024, epochs=25,\n",
    "                  validation_data=([user_test, movie_test], ratings_test), callbacks=[callback, scheduler])"
   ]
  },
  {
   "cell_type": "code",
   "execution_count": 6,
   "metadata": {},
   "outputs": [
    {
     "data": {
      "image/png": "[encoded data removed]",
      "text/plain": [
       "<Figure size 432x288 with 1 Axes>"
      ]
     },
     "metadata": {
      "needs_background": "light"
     },
     "output_type": "display_data"
    }
   ],
   "source": [
    "#Shows model performance over the time it is trained. We want to end up with a loss < .6\n",
    "plt.plot(r.history[\"loss\"], label=\"loss\")\n",
    "plt.plot(r.history[\"val_loss\"], label=\"val loss\")\n",
    "plt.legend()\n",
    "plt.show()"
   ]
  },
  {
   "cell_type": "code",
   "execution_count": 7,
   "metadata": {},
   "outputs": [
    {
     "name": "stdout",
     "output_type": "stream",
     "text": [
      "Model: \"recommender__model\"\n",
      "_________________________________________________________________\n",
      " Layer (type)                Output Shape              Param #   \n",
      "=================================================================\n",
      " model (Functional)          (None, 1)                 8419803   \n",
      "                                                                 \n",
      "=================================================================\n",
      "Total params: 8,419,803\n",
      "Trainable params: 8,419,803\n",
      "Non-trainable params: 0\n",
      "_________________________________________________________________\n"
     ]
    }
   ],
   "source": [
    "model.summary()"
   ]
  },
  {
   "cell_type": "code",
   "execution_count": 44,
   "metadata": {},
   "outputs": [
    {
     "name": "stdout",
     "output_type": "stream",
     "text": [
      "INFO:tensorflow:Assets written to: New_model\\assets\n"
     ]
    },
    {
     "data": {
      "text/plain": [
       "tensorflow.python.saved_model.load.Loader._recreate_base_user_object.<locals>._UserObject"
      ]
     },
     "execution_count": 44,
     "metadata": {},
     "output_type": "execute_result"
    }
   ],
   "source": [
    "#When I try to save and load the model I get a useless UserObject type\n",
    "model.save(\"New_model\")\n",
    "model2 = tf.saved_model.load(\"New_Model\")\n",
    "type(model2)\n"
   ]
  },
  {
   "cell_type": "code",
   "execution_count": 45,
   "metadata": {},
   "outputs": [
    {
     "data": {
      "text/plain": [
       "Recommender_Model.Recommender_Model"
      ]
     },
     "execution_count": 45,
     "metadata": {},
     "output_type": "execute_result"
    }
   ],
   "source": [
    "#The original model I made is still the correct type (Recommender_Model)\n",
    "type(model)"
   ]
  },
  {
   "cell_type": "code",
   "execution_count": 56,
   "metadata": {},
   "outputs": [],
   "source": [
    "#Rui's method to recommend movies based on a user id \n",
    "\n",
    "def recommend(user_id):\n",
    "    user2user_encoded = {user_ids[i]: i for i in range(len(user_ids))}\n",
    "    user_encoded2user = {i: user_ids[i] for i in range(len(user_ids))}\n",
    "    movie2movie_encoded = {new_movie_ids[i]: i for i in range(len(new_movie_ids))}\n",
    "    movie_encoded2movie = {i: new_movie_ids[i] for i in range(len(new_movie_ids))}\n",
    "\n",
    "    unwatched_movies_ids = df[df.userId != user_id]['new_movie_id'].values\n",
    "    unwatched_movies_ids_set = set(unwatched_movies_ids)\n",
    "    unwatched_movie_index = [[movie2movie_encoded[x]] for x in unwatched_movies_ids_set]\n",
    "    user_encoder = user2user_encoded[user_id]\n",
    "    # user_movie_array = np.hstack(([[user_encoder]] * len(unwatched_movies_ids_set), unwatched_movie_index))\n",
    "    user = np.array([user_id for i in range(len(unwatched_movies_ids_set))])\n",
    "    unwatched_movies_ids_set = np.array(list(unwatched_movies_ids_set))\n",
    "    predicted_ratings = model.predict([user, unwatched_movies_ids_set]).flatten()\n",
    "    top_N_rating_indices = predicted_ratings.argsort()[:top_N][::-1]\n",
    "    recommended_movie_ids = [movie_encoded2movie.get(unwatched_movie_index[x][0]) for x in top_N_rating_indices]\n",
    "\n",
    "    # movies = extract_movie_data()\n",
    "    recommended_movies = [movies[i] for i in recommended_movie_ids]\n",
    "    print (recommended_movies)\n",
    "    #return recommended_movie_ids"
   ]
  },
  {
   "cell_type": "code",
   "execution_count": 46,
   "metadata": {},
   "outputs": [],
   "source": [
    "#Rui's code to prepare to run the recommend method \n",
    "top_N = 30\n",
    "\n",
    "df = pd.read_csv(\"C:/Users/easht/Documents/CS 673/Movie Database/merged.csv\")\n",
    "df.userId = pd.Categorical(df.userId)\n",
    "df[\"new_user_id\"] = df.userId.cat.codes\n",
    "df.movieId = pd.Categorical(df.movieId)\n",
    "df[\"new_movie_id\"] = df.movieId.cat.codes\n",
    "# print(df.head())\n",
    "user_id = 4\n",
    "# Get user_ids , movie_ids, and ratings as separate arrays\n",
    "user_ids = df[\"new_user_id\"].values\n",
    "movie_ids = df[\"new_movie_id\"].values\n",
    "unwatched_movies_ids = df[df.userId != user_id]['new_movie_id'].values\n",
    "ratings = df[\"rating\"].values\n",
    "movie_titles = df[\"title\"].values\n",
    "df.movieId = pd.Categorical(df.movieId)\n",
    "df[\"new_movie_id\"] = df.movieId.cat.codes\n",
    "new_movie_ids = df[\"new_movie_id\"].values\n",
    "movies = {}\n",
    "for i in range(len(new_movie_ids)):\n",
    "        movies[new_movie_ids[i]] = movie_titles[i]\n"
   ]
  },
  {
   "cell_type": "code",
   "execution_count": 57,
   "metadata": {},
   "outputs": [
    {
     "name": "stdout",
     "output_type": "stream",
     "text": [
      "836/836 [==============================] - 1s 673us/step\n",
      "['Howling III: The Marsupials (1987)', 'Vampires Suck (2010)', 'Beverly Hills Chihuahua 2 (2011)', 'Retro Puppet Master (Puppet Master 7) (1999)', 'Brown Bunny, The (2003)', \"Justin Bieber's Believe (2013)\", \"It's Pat (1994)\", 'Mega Shark vs. Giant Octopus (2009)', \"Seed of Chucky (Child's Play 5) (2004)\", 'Prom Night IV: Deliver Us From Evil (1992)', 'Carnosaur 3: Primal Species (1996)', 'Faces of Death 5 (1996)', 'Ernest in the Army (1998)', 'Dance Flick (2009)', 'Son of the Mask (2005)', 'Disaster Movie (2008)', 'Pokémon 3: The Movie (2001)', 'Gigli (2003)', 'Black Christmas (2006)', 'Zombie Strippers! (2008)', 'Horrors of Spider Island (Ein Toter Hing im Netz) (1960)', 'SuperBabies: Baby Geniuses 2 (2004)', 'Time Walker (a.k.a. Being From Another Planet) (1982)', 'Glitter (2001)', 'Hip Hop Witch, Da (2000)', 'Bratz: The Movie (2007)', 'Pokemon 4 Ever (a.k.a. Pokémon 4: The Movie) (2002)', 'House of the Dead, The (2003)', 'Pokémon Heroes (2003)', 'From Justin to Kelly (2003)']\n"
     ]
    }
   ],
   "source": [
    "recommend(1)"
   ]
  },
  {
   "cell_type": "code",
   "execution_count": 58,
   "metadata": {},
   "outputs": [
    {
     "name": "stdout",
     "output_type": "stream",
     "text": [
      "836/836 [==============================] - 1s 698us/step\n",
      "['Giant Spider Invasion, The (1975)', 'Yu-Gi-Oh! (2004)', 'Legion of the Dead (2001)', 'Epic Movie (2007)', 'Hercules in New York (1970)', 'Ernest Goes to Africa (1997)', 'Meet the Spartans (2008)', 'Spy Kids: All the Time in the World in 4D (2011)', 'Witless Protection (2008)', 'Ernest in the Army (1998)', 'War of the Worlds 2: The Next Wave (2008)', 'Glitter (2001)', 'Carnosaur 2 (1995)', 'Faces of Death 4 (1990)', 'Dance Flick (2009)', 'Pokemon 4 Ever (a.k.a. Pokémon 4: The Movie) (2002)', \"God's Not Dead (2014)\", 'Faces of Death 5 (1996)', 'Faces of Death: Fact or Fiction? (1999)', 'Carnosaur 3: Primal Species (1996)', 'Son of the Mask (2005)', 'Faces of Death 6 (1996)', 'From Justin to Kelly (2003)', 'Beverly Hills Chihuahua 2 (2011)', 'House of the Dead, The (2003)', 'Hip Hop Witch, Da (2000)', 'Bratz: The Movie (2007)', 'Pokémon Heroes (2003)', 'SuperBabies: Baby Geniuses 2 (2004)', 'Disaster Movie (2008)']\n"
     ]
    }
   ],
   "source": [
    "recommend(7)"
   ]
  },
  {
   "cell_type": "code",
   "execution_count": 17,
   "metadata": {},
   "outputs": [
    {
     "name": "stdout",
     "output_type": "stream",
     "text": [
      "836/836 [==============================] - 1s 803us/step\n",
      "['Driller Killer, The (1979)', 'Farewell, The (Abschied - Brechts letzter Sommer) (2000)', 'Pokémon Heroes (2003)', 'Private Parts (1972)', 'Dance Flick (2009)', 'Anaconda III (2008)', 'Against the Dark (2009)', 'Kids of the Round Table (1995)', 'Gigli (2003)', 'Pink Flamingos (1972)', '3 Ninjas: High Noon On Mega Mountain (1998)', 'Attack of the Killer Tomatoes! (1978)', 'War of the Worlds 2: The Next Wave (2008)', 'Texas Chainsaw Massacre 2, The (1986)', 'Disaster Movie (2008)', 'House of the Dead, The (2003)', 'Pokemon 4 Ever (a.k.a. Pokémon 4: The Movie) (2002)', 'Beverly Hills Chihuahua 2 (2011)', \"Barney's Great Adventure (1998)\", 'Adventures of Sharkboy and Lavagirl 3-D, The (2005)', \"Justin Bieber's Believe (2013)\", 'Turbo: A Power Rangers Movie (1997)', 'Toxic Avenger, The (1985)', 'Son of the Mask (2005)', 'Hip Hop Witch, Da (2000)', 'Time Walker (a.k.a. Being From Another Planet) (1982)', 'From Justin to Kelly (2003)', 'Bratz: The Movie (2007)', 'Brown Bunny, The (2003)', 'SuperBabies: Baby Geniuses 2 (2004)']\n"
     ]
    },
    {
     "data": {
      "text/plain": [
       "[7461,\n",
       " 4954,\n",
       " 6266,\n",
       " 12987,\n",
       " 13758,\n",
       " 19223,\n",
       " 13453,\n",
       " 55,\n",
       " 6477,\n",
       " 2276,\n",
       " 1677,\n",
       " 2079,\n",
       " 13259,\n",
       " 2375,\n",
       " 12942,\n",
       " 6762,\n",
       " 5573,\n",
       " 17508,\n",
       " 1746,\n",
       " 10143,\n",
       " 22343,\n",
       " 1452,\n",
       " 3602,\n",
       " 9754,\n",
       " 7170,\n",
       " 6043,\n",
       " 6373,\n",
       " 12003,\n",
       " 9414,\n",
       " 8176]"
      ]
     },
     "execution_count": 17,
     "metadata": {},
     "output_type": "execute_result"
    }
   ],
   "source": [
    "recommend(10)"
   ]
  },
  {
   "cell_type": "code",
   "execution_count": 18,
   "metadata": {},
   "outputs": [
    {
     "name": "stdout",
     "output_type": "stream",
     "text": [
      "836/836 [==============================] - 1s 679us/step\n",
      "['Ernest Goes to Africa (1997)', 'Date Movie (2006)', 'Faces of Death 6 (1996)', 'Faces of Death 5 (1996)', 'Carnosaur 2 (1995)', 'Grudge 3, The (2009)', 'Home Alone 4 (2002)', 'Pokemon 4 Ever (a.k.a. Pokémon 4: The Movie) (2002)', 'Meet the Spartans (2008)', 'Beverly Hills Chihuahua 2 (2011)', 'Yu-Gi-Oh! (2004)', 'Kazaam (1996)', 'Witless Protection (2008)', 'Alone in the Dark (2005)', 'Carnosaur 3: Primal Species (1996)', 'Spy Kids: All the Time in the World in 4D (2011)', 'House of the Dead, The (2003)', 'Glitter (2001)', 'War of the Worlds 2: The Next Wave (2008)', \"God's Not Dead (2014)\", 'Epic Movie (2007)', 'Gigli (2003)', \"Barney's Great Adventure (1998)\", 'Hip Hop Witch, Da (2000)', 'Pokémon Heroes (2003)', 'From Justin to Kelly (2003)', 'Son of the Mask (2005)', 'Bratz: The Movie (2007)', 'Disaster Movie (2008)', 'SuperBabies: Baby Geniuses 2 (2004)']\n"
     ]
    },
    {
     "data": {
      "text/plain": [
       "[5548,\n",
       " 10847,\n",
       " 5640,\n",
       " 5639,\n",
       " 3482,\n",
       " 13397,\n",
       " 16652,\n",
       " 5573,\n",
       " 12392,\n",
       " 17508,\n",
       " 8128,\n",
       " 797,\n",
       " 12457,\n",
       " 9695,\n",
       " 3483,\n",
       " 17667,\n",
       " 6762,\n",
       " 4679,\n",
       " 13259,\n",
       " 23098,\n",
       " 11594,\n",
       " 6477,\n",
       " 1746,\n",
       " 7170,\n",
       " 6266,\n",
       " 6373,\n",
       " 9754,\n",
       " 12003,\n",
       " 12942,\n",
       " 8176]"
      ]
     },
     "execution_count": 18,
     "metadata": {},
     "output_type": "execute_result"
    }
   ],
   "source": [
    "recommend(100)"
   ]
  },
  {
   "cell_type": "code",
   "execution_count": 59,
   "metadata": {},
   "outputs": [
    {
     "name": "stdout",
     "output_type": "stream",
     "text": [
      "836/836 [==============================] - 1s 651us/step\n",
      "['Carnosaur 3: Primal Species (1996)', 'Crossroads (2002)', 'Extreme Ops (2002)', 'Left Behind: The Movie (2000)', 'Yu-Gi-Oh! (2004)', 'Date Movie (2006)', \"God's Not Dead (2014)\", 'Anaconda III (2008)', 'Pokemon 4 Ever (a.k.a. Pokémon 4: The Movie) (2002)', 'Alone in the Dark (2005)', 'Gigli (2003)', 'Agent Cody Banks 2: Destination London (2004)', 'House of the Dead, The (2003)', 'Turbo: A Power Rangers Movie (1997)', 'Home Alone 4 (2002)', 'Beverly Hills Chihuahua 2 (2011)', 'Little Man (2006)', 'Spy Kids: All the Time in the World in 4D (2011)', 'Witless Protection (2008)', \"Barney's Great Adventure (1998)\", 'Epic Movie (2007)', 'Pokémon Heroes (2003)', 'Glitter (2001)', 'Son of the Mask (2005)', 'Disaster Movie (2008)', 'War of the Worlds 2: The Next Wave (2008)', 'Hip Hop Witch, Da (2000)', 'Bratz: The Movie (2007)', 'From Justin to Kelly (2003)', 'SuperBabies: Baby Geniuses 2 (2004)']\n"
     ]
    }
   ],
   "source": [
    "recommend(1000)"
   ]
  }
 ],
 "metadata": {
  "kernelspec": {
   "display_name": "Python 3.9.7 64-bit",
   "language": "python",
   "name": "python3"
  },
  "language_info": {
   "codemirror_mode": {
    "name": "ipython",
    "version": 3
   },
   "file_extension": ".py",
   "mimetype": "text/x-python",
   "name": "python",
   "nbconvert_exporter": "python",
   "pygments_lexer": "ipython3",
   "version": "3.9.7"
  },
  "orig_nbformat": 4,
  "vscode": {
   "interpreter": {
    "hash": "d59cf345f7eb61a50be9d4ac4e2f1ebe3bcc9ac18d7986d1474e11e48a2bc6c2"
   }
  }
 },
 "nbformat": 4,
 "nbformat_minor": 2
}
