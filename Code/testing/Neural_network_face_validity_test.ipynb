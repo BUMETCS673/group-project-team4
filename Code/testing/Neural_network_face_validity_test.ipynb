{
 "cells": [
  {
   "cell_type": "code",
   "execution_count": 1,
   "metadata": {},
   "outputs": [],
   "source": [
    "import sys\n",
    "sys.path.insert(0, \"C:/Users/easht/Documents/GitHub/group-project-team4/Code/neural_network\")\n",
    "from Recommender_Model import Recommender_Model\n",
    "from tensorflow.keras.optimizers import SGD, Adam\n",
    "from sklearn.utils import shuffle\n",
    "from sklearn.model_selection import train_test_split\n",
    "import tensorflow as tf\n",
    "import numpy as np\n",
    "import pandas as pd\n",
    "import matplotlib.pyplot as plt\n"
   ]
  },
  {
   "cell_type": "code",
   "execution_count": 2,
   "metadata": {},
   "outputs": [],
   "source": [
    "#Rui's code to preprae for training the model\n",
    "df = pd.read_csv(\"C:/Users/easht/Documents/CS 673/Movie Database/merged.csv\")\n",
    "df.userId = pd.Categorical(df.userId)\n",
    "df[\"new_user_id\"] = df.userId.cat.codes\n",
    "df.movieId = pd.Categorical(df.movieId)\n",
    "df[\"new_movie_id\"] = df.movieId.cat.codes\n",
    "# print(df.head())\n",
    "user_id = 4\n",
    "# Get user_ids , movie_ids, and ratings as separate arrays\n",
    "user_ids = df[\"new_user_id\"].values\n",
    "movie_ids = df[\"new_movie_id\"].values\n",
    "unwatched_movies_ids = df[df.userId != user_id]['new_movie_id'].values\n",
    "ratings = df[\"rating\"].values\n",
    "movie_titles = df[\"title\"].values\n",
    "df.movieId = pd.Categorical(df.movieId)\n",
    "df[\"new_movie_id\"] = df.movieId.cat.codes\n",
    "new_movie_ids = df[\"new_movie_id\"].values\n",
    "movies = {}\n",
    "for i in range(len(new_movie_ids)):\n",
    "    movies[new_movie_ids[i]] = movie_titles[i]\n",
    "\n",
    "# Get number of users and number of movies\n",
    "uNum = len(set(user_ids))\n",
    "mNum = len(set(movie_ids))\n",
    "# Set embedding dimension\n",
    "K = 50\n",
    "\n",
    "# Shuffle and split the data\n",
    "user_ids, movie_ids, ratings = shuffle(user_ids, movie_ids, ratings)\n",
    "# 4:1 train-test ratio\n",
    "brk = int(0.8 * len(user_ids))\n",
    "user_train = user_ids[:brk]\n",
    "movie_train = movie_ids[:brk]\n",
    "ratings_train = ratings[:brk]\n",
    "\n",
    "user_test = user_ids[brk:]\n",
    "movie_test = movie_ids[brk:]\n",
    "ratings_test = ratings[brk:]\n",
    "# Center the ratings (Normalization without dividing standard deviation)\n",
    "mRatings = np.mean(ratings)\n",
    "ratings_train -= mRatings\n",
    "ratings_test -= mRatings\n",
    "\n",
    "user2user_encoded = {user_ids[i]: i for i in range(len(user_ids))}\n",
    "user_encoded2user = {i: user_ids[i] for i in range(len(user_ids))}\n",
    "movie2movie_encoded = {movie_ids[i]: i for i in range(len(movie_ids))}\n",
    "movie_encoded2movie = {i: movie_ids[i] for i in range(len(movie_ids))}\n",
    "\n",
    "# unwatched_movies_ids = get_unwatched_movies_django(user_id)\n",
    "unwatched_movie_index = [[movie2movie_encoded[x]] for x in unwatched_movies_ids]\n",
    "user_encoder = user2user_encoded[user_id]\n",
    "user_movie_array = np.hstack(([[user_encoder]] * len(unwatched_movies_ids), unwatched_movie_index))"
   ]
  },
  {
   "cell_type": "code",
   "execution_count": 3,
   "metadata": {},
   "outputs": [],
   "source": [
    "#Rui's code to initialize the model\n",
    "model = Recommender_Model(K, uNum, mNum)\n",
    "model.compile(optimizer=SGD(learning_rate=1e-2, momentum=3e-1),\n",
    "                  loss=\"mse\")"
   ]
  },
  {
   "cell_type": "code",
   "execution_count": 4,
   "metadata": {},
   "outputs": [],
   "source": [
    "#Rui's code to set model parameters\n",
    "\n",
    "# Create a scheduler to change the learning rate\n",
    "def schedule(epoch, lr):\n",
    "    if epoch >= 20:\n",
    "        return 1e-3\n",
    "    return 1e-2\n",
    "    \n",
    "scheduler = tf.keras.callbacks.LearningRateScheduler(schedule)\n",
    "callback = tf.keras.callbacks.EarlyStopping(monitor='loss', patience=3)\n",
    "# Fit the model the data is an array of users and movies"
   ]
  },
  {
   "cell_type": "code",
   "execution_count": 5,
   "metadata": {},
   "outputs": [
    {
     "name": "stdout",
     "output_type": "stream",
     "text": [
      "Epoch 1/25\n",
      "15626/15626 [==============================] - 1186s 76ms/step - loss: 0.8306 - val_loss: 0.7591 - lr: 0.0100\n",
      "Epoch 2/25\n",
      "15626/15626 [==============================] - 1188s 76ms/step - loss: 0.7398 - val_loss: 0.7377 - lr: 0.0100\n",
      "Epoch 3/25\n",
      "15626/15626 [==============================] - 1190s 76ms/step - loss: 0.7219 - val_loss: 0.7245 - lr: 0.0100\n",
      "Epoch 4/25\n",
      "15626/15626 [==============================] - 1177s 75ms/step - loss: 0.7040 - val_loss: 0.7093 - lr: 0.0100\n",
      "Epoch 5/25\n",
      "15626/15626 [==============================] - 1182s 76ms/step - loss: 0.6909 - val_loss: 0.7001 - lr: 0.0100\n",
      "Epoch 6/25\n",
      "15626/15626 [==============================] - 1182s 76ms/step - loss: 0.6814 - val_loss: 0.6919 - lr: 0.0100\n",
      "Epoch 7/25\n",
      "15626/15626 [==============================] - 1184s 76ms/step - loss: 0.6720 - val_loss: 0.6924 - lr: 0.0100\n",
      "Epoch 8/25\n",
      "15626/15626 [==============================] - 1187s 76ms/step - loss: 0.6626 - val_loss: 0.6897 - lr: 0.0100\n",
      "Epoch 9/25\n",
      "15626/15626 [==============================] - 1171s 75ms/step - loss: 0.6544 - val_loss: 0.7062 - lr: 0.0100\n",
      "Epoch 10/25\n",
      "15626/15626 [==============================] - 1152s 74ms/step - loss: 0.6465 - val_loss: 0.6742 - lr: 0.0100\n",
      "Epoch 11/25\n",
      "15626/15626 [==============================] - 1151s 74ms/step - loss: 0.6374 - val_loss: 0.6762 - lr: 0.0100\n",
      "Epoch 12/25\n",
      "15626/15626 [==============================] - 1206s 77ms/step - loss: 0.6265 - val_loss: 0.6921 - lr: 0.0100\n",
      "Epoch 13/25\n",
      "15626/15626 [==============================] - 1150s 74ms/step - loss: 0.6150 - val_loss: 0.6695 - lr: 0.0100\n",
      "Epoch 14/25\n",
      "15626/15626 [==============================] - 1140s 73ms/step - loss: 0.6043 - val_loss: 0.6998 - lr: 0.0100\n",
      "Epoch 15/25\n",
      "15626/15626 [==============================] - 1140s 73ms/step - loss: 0.5943 - val_loss: 0.6552 - lr: 0.0100\n",
      "Epoch 16/25\n",
      "15626/15626 [==============================] - 1140s 73ms/step - loss: 0.5845 - val_loss: 0.6397 - lr: 0.0100\n",
      "Epoch 17/25\n",
      "15626/15626 [==============================] - 1139s 73ms/step - loss: 0.5752 - val_loss: 0.6756 - lr: 0.0100\n",
      "Epoch 18/25\n",
      "15626/15626 [==============================] - 1137s 73ms/step - loss: 0.5656 - val_loss: 0.7314 - lr: 0.0100\n",
      "Epoch 19/25\n",
      "15626/15626 [==============================] - 1137s 73ms/step - loss: 0.5564 - val_loss: 0.7408 - lr: 0.0100\n",
      "Epoch 20/25\n",
      "15626/15626 [==============================] - 1146s 73ms/step - loss: 0.5472 - val_loss: 0.6403 - lr: 0.0100\n",
      "Epoch 21/25\n",
      "15626/15626 [==============================] - 1145s 73ms/step - loss: 0.5078 - val_loss: 0.6371 - lr: 0.0010\n",
      "Epoch 22/25\n",
      "15626/15626 [==============================] - 1145s 73ms/step - loss: 0.5041 - val_loss: 0.6355 - lr: 0.0010\n",
      "Epoch 23/25\n",
      "15626/15626 [==============================] - 1145s 73ms/step - loss: 0.5017 - val_loss: 0.6356 - lr: 0.0010\n",
      "Epoch 24/25\n",
      "15626/15626 [==============================] - 1145s 73ms/step - loss: 0.4997 - val_loss: 0.6372 - lr: 0.0010\n",
      "Epoch 25/25\n",
      "15626/15626 [==============================] - 1146s 73ms/step - loss: 0.4978 - val_loss: 0.6371 - lr: 0.0010\n"
     ]
    }
   ],
   "source": [
    "#Rui's code to train the model (takes 8 hours on Eric' system)\n",
    "r = model.fit([user_train, movie_train], ratings_train, batch_size=1024, epochs=25,\n",
    "                  validation_data=([user_test, movie_test], ratings_test), callbacks=[callback, scheduler])"
   ]
  },
  {
   "cell_type": "code",
   "execution_count": 6,
   "metadata": {},
   "outputs": [
    {
     "data": {
      "image/png": "[encoded data removed]",
      "text/plain": [
       "<Figure size 432x288 with 1 Axes>"
      ]
     },
     "metadata": {
      "needs_background": "light"
     },
     "output_type": "display_data"
    }
   ],
   "source": [
    "#Shows model performance over the time it is trained. We want to end up with a loss < .6\n",
    "plt.plot(r.history[\"loss\"], label=\"loss\")\n",
    "plt.plot(r.history[\"val_loss\"], label=\"val loss\")\n",
    "plt.legend()\n",
    "plt.show()"
   ]
  },
  {
   "cell_type": "code",
   "execution_count": 7,
   "metadata": {},
   "outputs": [
    {
     "name": "stdout",
     "output_type": "stream",
     "text": [
      "Model: \"recommender__model\"\n",
      "_________________________________________________________________\n",
      " Layer (type)                Output Shape              Param #   \n",
      "=================================================================\n",
      " model (Functional)          (None, 1)                 8419803   \n",
      "                                                                 \n",
      "=================================================================\n",
      "Total params: 8,419,803\n",
      "Trainable params: 8,419,803\n",
      "Non-trainable params: 0\n",
      "_________________________________________________________________\n"
     ]
    }
   ],
   "source": [
    "model.summary()"
   ]
  },
  {
   "cell_type": "code",
   "execution_count": 62,
   "metadata": {},
   "outputs": [
    {
     "name": "stdout",
     "output_type": "stream",
     "text": [
      "INFO:tensorflow:Assets written to: New_model\\assets\n"
     ]
    },
    {
     "data": {
      "text/plain": [
       "tensorflow.python.saved_model.load.Loader._recreate_base_user_object.<locals>._UserObject"
      ]
     },
     "execution_count": 62,
     "metadata": {},
     "output_type": "execute_result"
    }
   ],
   "source": [
    "#When I try to save and load the model I get a useless UserObject type\n",
    "model.save(\"New_model\")\n",
    "model2 = tf.saved_model.load(\"New_Model\")\n",
    "type(model2)\n"
   ]
  },
  {
   "cell_type": "code",
   "execution_count": 45,
   "metadata": {},
   "outputs": [
    {
     "data": {
      "text/plain": [
       "Recommender_Model.Recommender_Model"
      ]
     },
     "execution_count": 45,
     "metadata": {},
     "output_type": "execute_result"
    }
   ],
   "source": [
    "#The original model I made is still the correct type (Recommender_Model)\n",
    "type(model)"
   ]
  },
  {
   "cell_type": "code",
   "execution_count": 56,
   "metadata": {},
   "outputs": [],
   "source": [
    "#Rui's method to recommend movies based on a user id \n",
    "\n",
    "def recommend(user_id):\n",
    "    user2user_encoded = {user_ids[i]: i for i in range(len(user_ids))}\n",
    "    user_encoded2user = {i: user_ids[i] for i in range(len(user_ids))}\n",
    "    movie2movie_encoded = {new_movie_ids[i]: i for i in range(len(new_movie_ids))}\n",
    "    movie_encoded2movie = {i: new_movie_ids[i] for i in range(len(new_movie_ids))}\n",
    "\n",
    "    unwatched_movies_ids = df[df.userId != user_id]['new_movie_id'].values\n",
    "    unwatched_movies_ids_set = set(unwatched_movies_ids)\n",
    "    unwatched_movie_index = [[movie2movie_encoded[x]] for x in unwatched_movies_ids_set]\n",
    "    user_encoder = user2user_encoded[user_id]\n",
    "    # user_movie_array = np.hstack(([[user_encoder]] * len(unwatched_movies_ids_set), unwatched_movie_index))\n",
    "    user = np.array([user_id for i in range(len(unwatched_movies_ids_set))])\n",
    "    unwatched_movies_ids_set = np.array(list(unwatched_movies_ids_set))\n",
    "    predicted_ratings = model.predict([user, unwatched_movies_ids_set]).flatten()\n",
    "    top_N_rating_indices = predicted_ratings.argsort()[:top_N][::-1]\n",
    "    recommended_movie_ids = [movie_encoded2movie.get(unwatched_movie_index[x][0]) for x in top_N_rating_indices]\n",
    "\n",
    "    # movies = extract_movie_data()\n",
    "    recommended_movies = [movies[i] for i in recommended_movie_ids]\n",
    "    print (recommended_movies)\n",
    "    #return recommended_movie_ids"
   ]
  },
  {
   "cell_type": "code",
   "execution_count": 46,
   "metadata": {},
   "outputs": [],
   "source": [
    "#Rui's code to prepare to run the recommend method \n",
    "top_N = 30\n",
    "\n",
    "df = pd.read_csv(\"C:/Users/easht/Documents/CS 673/Movie Database/merged.csv\")\n",
    "df.userId = pd.Categorical(df.userId)\n",
    "df[\"new_user_id\"] = df.userId.cat.codes\n",
    "df.movieId = pd.Categorical(df.movieId)\n",
    "df[\"new_movie_id\"] = df.movieId.cat.codes\n",
    "# print(df.head())\n",
    "user_id = 4\n",
    "# Get user_ids , movie_ids, and ratings as separate arrays\n",
    "user_ids = df[\"new_user_id\"].values\n",
    "movie_ids = df[\"new_movie_id\"].values\n",
    "unwatched_movies_ids = df[df.userId != user_id]['new_movie_id'].values\n",
    "ratings = df[\"rating\"].values\n",
    "movie_titles = df[\"title\"].values\n",
    "df.movieId = pd.Categorical(df.movieId)\n",
    "df[\"new_movie_id\"] = df.movieId.cat.codes\n",
    "new_movie_ids = df[\"new_movie_id\"].values\n",
    "movies = {}\n",
    "for i in range(len(new_movie_ids)):\n",
    "        movies[new_movie_ids[i]] = movie_titles[i]\n"
   ]
  },
  {
   "cell_type": "code",
   "execution_count": 57,
   "metadata": {},
   "outputs": [
    {
     "name": "stdout",
     "output_type": "stream",
     "text": [
      "836/836 [==============================] - 1s 673us/step\n",
      "['Howling III: The Marsupials (1987)', 'Vampires Suck (2010)', 'Beverly Hills Chihuahua 2 (2011)', 'Retro Puppet Master (Puppet Master 7) (1999)', 'Brown Bunny, The (2003)', \"Justin Bieber's Believe (2013)\", \"It's Pat (1994)\", 'Mega Shark vs. Giant Octopus (2009)', \"Seed of Chucky (Child's Play 5) (2004)\", 'Prom Night IV: Deliver Us From Evil (1992)', 'Carnosaur 3: Primal Species (1996)', 'Faces of Death 5 (1996)', 'Ernest in the Army (1998)', 'Dance Flick (2009)', 'Son of the Mask (2005)', 'Disaster Movie (2008)', 'Pokémon 3: The Movie (2001)', 'Gigli (2003)', 'Black Christmas (2006)', 'Zombie Strippers! (2008)', 'Horrors of Spider Island (Ein Toter Hing im Netz) (1960)', 'SuperBabies: Baby Geniuses 2 (2004)', 'Time Walker (a.k.a. Being From Another Planet) (1982)', 'Glitter (2001)', 'Hip Hop Witch, Da (2000)', 'Bratz: The Movie (2007)', 'Pokemon 4 Ever (a.k.a. Pokémon 4: The Movie) (2002)', 'House of the Dead, The (2003)', 'Pokémon Heroes (2003)', 'From Justin to Kelly (2003)']\n"
     ]
    }
   ],
   "source": [
    "recommend(1)"
   ]
  },
  {
   "cell_type": "code",
   "execution_count": 58,
   "metadata": {},
   "outputs": [
    {
     "name": "stdout",
     "output_type": "stream",
     "text": [
      "836/836 [==============================] - 1s 698us/step\n",
      "['Giant Spider Invasion, The (1975)', 'Yu-Gi-Oh! (2004)', 'Legion of the Dead (2001)', 'Epic Movie (2007)', 'Hercules in New York (1970)', 'Ernest Goes to Africa (1997)', 'Meet the Spartans (2008)', 'Spy Kids: All the Time in the World in 4D (2011)', 'Witless Protection (2008)', 'Ernest in the Army (1998)', 'War of the Worlds 2: The Next Wave (2008)', 'Glitter (2001)', 'Carnosaur 2 (1995)', 'Faces of Death 4 (1990)', 'Dance Flick (2009)', 'Pokemon 4 Ever (a.k.a. Pokémon 4: The Movie) (2002)', \"God's Not Dead (2014)\", 'Faces of Death 5 (1996)', 'Faces of Death: Fact or Fiction? (1999)', 'Carnosaur 3: Primal Species (1996)', 'Son of the Mask (2005)', 'Faces of Death 6 (1996)', 'From Justin to Kelly (2003)', 'Beverly Hills Chihuahua 2 (2011)', 'House of the Dead, The (2003)', 'Hip Hop Witch, Da (2000)', 'Bratz: The Movie (2007)', 'Pokémon Heroes (2003)', 'SuperBabies: Baby Geniuses 2 (2004)', 'Disaster Movie (2008)']\n"
     ]
    }
   ],
   "source": [
    "recommend(7)"
   ]
  },
  {
   "cell_type": "code",
   "execution_count": 17,
   "metadata": {},
   "outputs": [
    {
     "name": "stdout",
     "output_type": "stream",
     "text": [
      "836/836 [==============================] - 1s 803us/step\n",
      "['Driller Killer, The (1979)', 'Farewell, The (Abschied - Brechts letzter Sommer) (2000)', 'Pokémon Heroes (2003)', 'Private Parts (1972)', 'Dance Flick (2009)', 'Anaconda III (2008)', 'Against the Dark (2009)', 'Kids of the Round Table (1995)', 'Gigli (2003)', 'Pink Flamingos (1972)', '3 Ninjas: High Noon On Mega Mountain (1998)', 'Attack of the Killer Tomatoes! (1978)', 'War of the Worlds 2: The Next Wave (2008)', 'Texas Chainsaw Massacre 2, The (1986)', 'Disaster Movie (2008)', 'House of the Dead, The (2003)', 'Pokemon 4 Ever (a.k.a. Pokémon 4: The Movie) (2002)', 'Beverly Hills Chihuahua 2 (2011)', \"Barney's Great Adventure (1998)\", 'Adventures of Sharkboy and Lavagirl 3-D, The (2005)', \"Justin Bieber's Believe (2013)\", 'Turbo: A Power Rangers Movie (1997)', 'Toxic Avenger, The (1985)', 'Son of the Mask (2005)', 'Hip Hop Witch, Da (2000)', 'Time Walker (a.k.a. Being From Another Planet) (1982)', 'From Justin to Kelly (2003)', 'Bratz: The Movie (2007)', 'Brown Bunny, The (2003)', 'SuperBabies: Baby Geniuses 2 (2004)']\n"
     ]
    },
    {
     "data": {
      "text/plain": [
       "[7461,\n",
       " 4954,\n",
       " 6266,\n",
       " 12987,\n",
       " 13758,\n",
       " 19223,\n",
       " 13453,\n",
       " 55,\n",
       " 6477,\n",
       " 2276,\n",
       " 1677,\n",
       " 2079,\n",
       " 13259,\n",
       " 2375,\n",
       " 12942,\n",
       " 6762,\n",
       " 5573,\n",
       " 17508,\n",
       " 1746,\n",
       " 10143,\n",
       " 22343,\n",
       " 1452,\n",
       " 3602,\n",
       " 9754,\n",
       " 7170,\n",
       " 6043,\n",
       " 6373,\n",
       " 12003,\n",
       " 9414,\n",
       " 8176]"
      ]
     },
     "execution_count": 17,
     "metadata": {},
     "output_type": "execute_result"
    }
   ],
   "source": [
    "recommend(10)"
   ]
  },
  {
   "cell_type": "code",
   "execution_count": 18,
   "metadata": {},
   "outputs": [
    {
     "name": "stdout",
     "output_type": "stream",
     "text": [
      "836/836 [==============================] - 1s 679us/step\n",
      "['Ernest Goes to Africa (1997)', 'Date Movie (2006)', 'Faces of Death 6 (1996)', 'Faces of Death 5 (1996)', 'Carnosaur 2 (1995)', 'Grudge 3, The (2009)', 'Home Alone 4 (2002)', 'Pokemon 4 Ever (a.k.a. Pokémon 4: The Movie) (2002)', 'Meet the Spartans (2008)', 'Beverly Hills Chihuahua 2 (2011)', 'Yu-Gi-Oh! (2004)', 'Kazaam (1996)', 'Witless Protection (2008)', 'Alone in the Dark (2005)', 'Carnosaur 3: Primal Species (1996)', 'Spy Kids: All the Time in the World in 4D (2011)', 'House of the Dead, The (2003)', 'Glitter (2001)', 'War of the Worlds 2: The Next Wave (2008)', \"God's Not Dead (2014)\", 'Epic Movie (2007)', 'Gigli (2003)', \"Barney's Great Adventure (1998)\", 'Hip Hop Witch, Da (2000)', 'Pokémon Heroes (2003)', 'From Justin to Kelly (2003)', 'Son of the Mask (2005)', 'Bratz: The Movie (2007)', 'Disaster Movie (2008)', 'SuperBabies: Baby Geniuses 2 (2004)']\n"
     ]
    },
    {
     "data": {
      "text/plain": [
       "[5548,\n",
       " 10847,\n",
       " 5640,\n",
       " 5639,\n",
       " 3482,\n",
       " 13397,\n",
       " 16652,\n",
       " 5573,\n",
       " 12392,\n",
       " 17508,\n",
       " 8128,\n",
       " 797,\n",
       " 12457,\n",
       " 9695,\n",
       " 3483,\n",
       " 17667,\n",
       " 6762,\n",
       " 4679,\n",
       " 13259,\n",
       " 23098,\n",
       " 11594,\n",
       " 6477,\n",
       " 1746,\n",
       " 7170,\n",
       " 6266,\n",
       " 6373,\n",
       " 9754,\n",
       " 12003,\n",
       " 12942,\n",
       " 8176]"
      ]
     },
     "execution_count": 18,
     "metadata": {},
     "output_type": "execute_result"
    }
   ],
   "source": [
    "recommend(100)"
   ]
  },
  {
   "cell_type": "code",
   "execution_count": 59,
   "metadata": {},
   "outputs": [
    {
     "name": "stdout",
     "output_type": "stream",
     "text": [
      "836/836 [==============================] - 1s 651us/step\n",
      "['Carnosaur 3: Primal Species (1996)', 'Crossroads (2002)', 'Extreme Ops (2002)', 'Left Behind: The Movie (2000)', 'Yu-Gi-Oh! (2004)', 'Date Movie (2006)', \"God's Not Dead (2014)\", 'Anaconda III (2008)', 'Pokemon 4 Ever (a.k.a. Pokémon 4: The Movie) (2002)', 'Alone in the Dark (2005)', 'Gigli (2003)', 'Agent Cody Banks 2: Destination London (2004)', 'House of the Dead, The (2003)', 'Turbo: A Power Rangers Movie (1997)', 'Home Alone 4 (2002)', 'Beverly Hills Chihuahua 2 (2011)', 'Little Man (2006)', 'Spy Kids: All the Time in the World in 4D (2011)', 'Witless Protection (2008)', \"Barney's Great Adventure (1998)\", 'Epic Movie (2007)', 'Pokémon Heroes (2003)', 'Glitter (2001)', 'Son of the Mask (2005)', 'Disaster Movie (2008)', 'War of the Worlds 2: The Next Wave (2008)', 'Hip Hop Witch, Da (2000)', 'Bratz: The Movie (2007)', 'From Justin to Kelly (2003)', 'SuperBabies: Baby Geniuses 2 (2004)']\n"
     ]
    }
   ],
   "source": [
    "recommend(1000)"
   ]
  },
  {
   "cell_type": "code",
   "execution_count": 83,
   "metadata": {},
   "outputs": [],
   "source": [
    "movie_stats = pd.pivot_table(df, values = \"rating\", index = [\"title\",\"new_movie_id\"], \n",
    "                aggfunc=[np.mean, np.count_nonzero]).reset_index()\n",
    "movie_stats.columns = ['title','new_movie_id','mean_rating','n_ratings']"
   ]
  },
  {
   "cell_type": "code",
   "execution_count": 214,
   "metadata": {},
   "outputs": [],
   "source": [
    "N_RATINGS_THRESHOLD = 5000\n",
    "df_movies_with_sufficent_ratings = movie_stats.loc[movie_stats['n_ratings'] >= N_RATINGS_THRESHOLD]\n",
    "df_ratings_sufficent_movies_only = df_movies_with_sufficent_ratings.merge(df)\n",
    "possible_rec_movies_ids = set(df_ratings_sufficent_movies_only['new_movie_id'].values)\n"
   ]
  },
  {
   "cell_type": "code",
   "execution_count": 220,
   "metadata": {},
   "outputs": [],
   "source": [
    "#predict ratings but limited to the 1024 movies with at least 5000 ratings\n",
    "def predict_ratings(user_id):\n",
    "    watched_movies = df_ratings_sufficent_movies_only.loc[df_ratings_sufficent_movies_only['userId'] == user_id]\n",
    "    watched_movie_ids_any = set(watched_movies['new_movie_id'].values)\n",
    "    unwatched_movie_ids_possible = possible_rec_movies_ids - watched_movie_ids_any\n",
    "    watched_movie_ids_possible = possible_rec_movies_ids - unwatched_movie_ids_possible\n",
    "    #print(\"User \" + str(user_id) + \" has rated \" + str(len(watched_movie_ids_possible)) + \n",
    "    #    \" of the 1005 most-rated movies leaving \" + str(len(unwatched_movie_ids_possible)) + \" as possible recommendatons\")\n",
    "    user_id_array = np.array([user_id for i in range(len(unwatched_movie_ids_possible))])\n",
    "    unwatched_movie_ids_possible_array = np.array(list(unwatched_movie_ids_possible))\n",
    "    predicted_ratings = model.predict([user_id_array, unwatched_movie_ids_possible_array]).flatten()\n",
    "    predicted_ratings_uncentered = [i + mRatings for i in predicted_ratings]\n",
    "    list_ids_and_prediction = list(zip(list(unwatched_movie_ids_possible_array),list(predicted_ratings_uncentered)))\n",
    "    df_ids_and_prediction = pd.DataFrame(list_ids_and_prediction, columns = ['new_movie_id', 'predicted_rating_uncentered'])\n",
    "\n",
    "    return df_ids_and_prediction\n",
    "    \n"
   ]
  },
  {
   "cell_type": "code",
   "execution_count": 222,
   "metadata": {},
   "outputs": [],
   "source": [
    "#returns a list of top 30 unwatched movies with the highest predicted rating for a given user\n",
    "def rec_movies(user_id):\n",
    "    df_ids_and_prediction = predict_ratings(user_id)\n",
    "    df_pred_rating_movie_info = df_ids_and_prediction.merge(movie_stats)\n",
    "    df_pred_rating_movie_info = df_pred_rating_movie_info.sort_values(by=['predicted_rating_uncentered'], ascending = False)\n",
    "    rec_movies = df_pred_rating_movie_info['title'].values[:top_N]\n",
    "    return rec_movies"
   ]
  },
  {
   "cell_type": "code",
   "execution_count": 223,
   "metadata": {},
   "outputs": [
    {
     "name": "stdout",
     "output_type": "stream",
     "text": [
      "User 1 has rated 112 of the 1005 most-rated movies leaving 893 as possible recommendatons\n",
      "28/28 [==============================] - 0s 761us/step\n",
      "['Forrest Gump (1994)' 'Braveheart (1995)' 'Gladiator (2000)'\n",
      " 'Star Wars: Episode VI - Return of the Jedi (1983)'\n",
      " 'Saving Private Ryan (1998)'\n",
      " 'Star Wars: Episode III - Revenge of the Sith (2005)' 'Avatar (2009)'\n",
      " \"Schindler's List (1993)\" 'Godfather, The (1972)' 'Matrix, The (1999)'\n",
      " 'Good Will Hunting (1997)' 'Dark Knight, The (2008)'\n",
      " 'Godfather: Part II, The (1974)' 'Jurassic Park (1993)'\n",
      " 'Star Trek (2009)' 'Black Hawk Down (2001)' 'Green Mile, The (1999)'\n",
      " 'Inception (2010)' 'Patriot, The (2000)' 'Ben-Hur (1959)'\n",
      " 'Jerry Maguire (1996)' 'Bourne Ultimatum, The (2007)'\n",
      " 'Fugitive, The (1993)'\n",
      " 'Star Wars: Episode II - Attack of the Clones (2002)' 'Goodfellas (1990)'\n",
      " 'Rocky (1976)' 'Back to the Future (1985)' 'Sting, The (1973)'\n",
      " 'Patton (1970)' 'Last Samurai, The (2003)']\n"
     ]
    }
   ],
   "source": [
    "print(rec_movies(1))"
   ]
  },
  {
   "cell_type": "code",
   "execution_count": 224,
   "metadata": {},
   "outputs": [
    {
     "name": "stdout",
     "output_type": "stream",
     "text": [
      "User 3 has rated 145 of the 1005 most-rated movies leaving 860 as possible recommendatons\n",
      "27/27 [==============================] - 0s 833us/step\n"
     ]
    }
   ],
   "source": [
    "df_ids_and_prediction = predict_ratings(user_id)\n",
    "df_pred_rating_movie_info = df_ids_and_prediction.merge(movie_stats)\n",
    "df_pred_rating_movie_info = df_pred_rating_movie_info.sort_values(by=['predicted_rating_uncentered'], ascending = False)\n",
    "rec_movies = df_pred_rating_movie_info['title'].values[:top_N]\n"
   ]
  },
  {
   "cell_type": "code",
   "execution_count": 249,
   "metadata": {},
   "outputs": [
    {
     "name": "stdout",
     "output_type": "stream",
     "text": [
      "User 94255 has rated 134 of the 1005 most-rated movies leaving 871 as possible recommendatons\n",
      "28/28 [==============================] - 0s 776us/step\n",
      "User 119899 has rated 15 of the 1005 most-rated movies leaving 990 as possible recommendatons\n",
      "31/31 [==============================] - 0s 720us/step\n",
      "User 137241 has rated 75 of the 1005 most-rated movies leaving 930 as possible recommendatons\n",
      "30/30 [==============================] - 0s 724us/step\n",
      "User 34970 has rated 36 of the 1005 most-rated movies leaving 969 as possible recommendatons\n",
      "31/31 [==============================] - 0s 867us/step\n",
      "User 98056 has rated 36 of the 1005 most-rated movies leaving 969 as possible recommendatons\n",
      "31/31 [==============================] - 0s 800us/step\n",
      "User 42705 has rated 21 of the 1005 most-rated movies leaving 984 as possible recommendatons\n",
      "31/31 [==============================] - 0s 700us/step\n",
      "User 125225 has rated 21 of the 1005 most-rated movies leaving 984 as possible recommendatons\n",
      "31/31 [==============================] - 0s 729us/step\n",
      "User 85770 has rated 340 of the 1005 most-rated movies leaving 665 as possible recommendatons\n",
      "21/21 [==============================] - 0s 750us/step\n",
      "User 89354 has rated 42 of the 1005 most-rated movies leaving 963 as possible recommendatons\n",
      "31/31 [==============================] - 0s 700us/step\n",
      "User 53088 has rated 168 of the 1005 most-rated movies leaving 837 as possible recommendatons\n",
      "27/27 [==============================] - 0s 769us/step\n"
     ]
    }
   ],
   "source": [
    "N_ANALYSIS_USERS = 10\n",
    "analysis_users = list(user_test[:N_ANALYSIS_USERS])\n",
    "dict_pred_rating_analysis = dict()\n",
    "for user_id in analysis_users:\n",
    "    dict_pred_rating_analysis[user_id] = predict_ratings(user_id)\n",
    "\n"
   ]
  },
  {
   "cell_type": "code",
   "execution_count": 319,
   "metadata": {},
   "outputs": [],
   "source": [
    "all_predictions = pd.DataFrame()\n",
    "for user_id in dict_pred_rating_analysis:\n",
    "    dict_pred_rating_analysis[user_id] =  dict_pred_rating_analysis[user_id].rename(columns=\n",
    "            {'predicted_rating_uncentered':'prediction_user_' + str(user_id)})\n",
    "    if all_predictions.empty == True:\n",
    "        all_predictions = dict_pred_rating_analysis[user_id]\n",
    "    else:\n",
    "        all_predictions = all_predictions.merge(dict_pred_rating_analysis[user_id], how = 'outer')\n",
    "all_predictions = all_predictions.merge(movie_stats)"
   ]
  },
  {
   "cell_type": "code",
   "execution_count": 321,
   "metadata": {},
   "outputs": [],
   "source": [
    "for user_id in dict_pred_rating_analysis:\n",
    "    user_ratings = df_ratings_sufficent_movies_only.loc[df_ratings_sufficent_movies_only['userId'] == user_id]\n",
    "    user_ratings =  user_ratings.rename(columns={'rating':'rating_user_' + str(user_id)})\n",
    "    user_ratings = user_ratings[['new_movie_id','rating_user_' + str(user_id)]]\n",
    "    all_predictions = all_predictions.merge(user_ratings, how = 'outer')"
   ]
  },
  {
   "cell_type": "code",
   "execution_count": 341,
   "metadata": {},
   "outputs": [],
   "source": [
    "all_predictions = pd.DataFrame()\n",
    "for user_id in dict_pred_rating_analysis:\n",
    "    dict_pred_rating_analysis[user_id] =  dict_pred_rating_analysis[user_id].rename(columns=\n",
    "            {'predicted_rating_uncentered':'prediction_user_' + str(user_id)})\n",
    "    if all_predictions.empty == True:\n",
    "        all_predictions = dict_pred_rating_analysis[user_id]\n",
    "    else:\n",
    "        all_predictions = all_predictions.merge(dict_pred_rating_analysis[user_id], how = 'outer')\n",
    "    user_ratings = df_ratings_sufficent_movies_only.loc[df_ratings_sufficent_movies_only['userId'] == user_id]\n",
    "    user_ratings =  user_ratings.rename(columns={'rating':'rating_user_' + str(user_id)})\n",
    "    user_ratings = user_ratings[['new_movie_id','rating_user_' + str(user_id)]]\n",
    "    all_predictions = all_predictions.merge(user_ratings, how = 'outer')\n",
    "all_predictions = all_predictions.merge(movie_stats)"
   ]
  },
  {
   "cell_type": "code",
   "execution_count": 348,
   "metadata": {},
   "outputs": [],
   "source": [
    "for user_id in dict_pred_rating_analysis:\n",
    "    a = 'prediction_user_' + str(user_id)\n",
    "    b = 'rating_user_' + str(user_id)\n",
    "    all_predictions[a].update(all_predictions[b])"
   ]
  },
  {
   "cell_type": "code",
   "execution_count": 346,
   "metadata": {},
   "outputs": [
    {
     "data": {
      "text/html": [
       "<div>\n",
       "<style scoped>\n",
       "    .dataframe tbody tr th:only-of-type {\n",
       "        vertical-align: middle;\n",
       "    }\n",
       "\n",
       "    .dataframe tbody tr th {\n",
       "        vertical-align: top;\n",
       "    }\n",
       "\n",
       "    .dataframe thead th {\n",
       "        text-align: right;\n",
       "    }\n",
       "</style>\n",
       "<table border=\"1\" class=\"dataframe\">\n",
       "  <thead>\n",
       "    <tr style=\"text-align: right;\">\n",
       "      <th></th>\n",
       "      <th>new_movie_id</th>\n",
       "      <th>prediction_user_94255</th>\n",
       "      <th>rating_user_94255</th>\n",
       "      <th>prediction_user_119899</th>\n",
       "      <th>rating_user_119899</th>\n",
       "      <th>prediction_user_137241</th>\n",
       "      <th>rating_user_137241</th>\n",
       "      <th>prediction_user_34970</th>\n",
       "      <th>rating_user_34970</th>\n",
       "      <th>prediction_user_98056</th>\n",
       "      <th>...</th>\n",
       "      <th>rating_user_125225</th>\n",
       "      <th>prediction_user_85770</th>\n",
       "      <th>rating_user_85770</th>\n",
       "      <th>prediction_user_89354</th>\n",
       "      <th>rating_user_89354</th>\n",
       "      <th>prediction_user_53088</th>\n",
       "      <th>rating_user_53088</th>\n",
       "      <th>title</th>\n",
       "      <th>mean_rating</th>\n",
       "      <th>n_ratings</th>\n",
       "    </tr>\n",
       "  </thead>\n",
       "  <tbody>\n",
       "    <tr>\n",
       "      <th>0</th>\n",
       "      <td>0</td>\n",
       "      <td>3.747471</td>\n",
       "      <td>3.747471</td>\n",
       "      <td>4.768892</td>\n",
       "      <td>4.768892</td>\n",
       "      <td>4.152639</td>\n",
       "      <td>4.152639</td>\n",
       "      <td>3.672400</td>\n",
       "      <td>3.672400</td>\n",
       "      <td>4.803822</td>\n",
       "      <td>...</td>\n",
       "      <td>4.191975</td>\n",
       "      <td>NaN</td>\n",
       "      <td>3.000000</td>\n",
       "      <td>NaN</td>\n",
       "      <td>5.000000</td>\n",
       "      <td>4.108458</td>\n",
       "      <td>4.108458</td>\n",
       "      <td>Toy Story (1995)</td>\n",
       "      <td>3.921240</td>\n",
       "      <td>49695</td>\n",
       "    </tr>\n",
       "    <tr>\n",
       "      <th>1</th>\n",
       "      <td>1</td>\n",
       "      <td>2.684155</td>\n",
       "      <td>2.684155</td>\n",
       "      <td>3.299793</td>\n",
       "      <td>3.299793</td>\n",
       "      <td>2.973970</td>\n",
       "      <td>2.973970</td>\n",
       "      <td>2.627982</td>\n",
       "      <td>2.627982</td>\n",
       "      <td>2.332153</td>\n",
       "      <td>...</td>\n",
       "      <td>2.943599</td>\n",
       "      <td>NaN</td>\n",
       "      <td>3.000000</td>\n",
       "      <td>3.513798</td>\n",
       "      <td>3.513798</td>\n",
       "      <td>2.840988</td>\n",
       "      <td>2.840988</td>\n",
       "      <td>Jumanji (1995)</td>\n",
       "      <td>3.211977</td>\n",
       "      <td>22243</td>\n",
       "    </tr>\n",
       "    <tr>\n",
       "      <th>2</th>\n",
       "      <td>2</td>\n",
       "      <td>2.220494</td>\n",
       "      <td>2.220494</td>\n",
       "      <td>3.597982</td>\n",
       "      <td>3.597982</td>\n",
       "      <td>3.279014</td>\n",
       "      <td>3.279014</td>\n",
       "      <td>2.777443</td>\n",
       "      <td>2.777443</td>\n",
       "      <td>2.464870</td>\n",
       "      <td>...</td>\n",
       "      <td>3.052694</td>\n",
       "      <td>2.699080</td>\n",
       "      <td>2.699080</td>\n",
       "      <td>2.787522</td>\n",
       "      <td>2.787522</td>\n",
       "      <td>2.420418</td>\n",
       "      <td>2.420418</td>\n",
       "      <td>Grumpier Old Men (1995)</td>\n",
       "      <td>3.151040</td>\n",
       "      <td>12735</td>\n",
       "    </tr>\n",
       "    <tr>\n",
       "      <th>3</th>\n",
       "      <td>2050</td>\n",
       "      <td>1.932011</td>\n",
       "      <td>1.932011</td>\n",
       "      <td>3.915151</td>\n",
       "      <td>3.915151</td>\n",
       "      <td>3.000240</td>\n",
       "      <td>3.000240</td>\n",
       "      <td>3.364687</td>\n",
       "      <td>3.364687</td>\n",
       "      <td>3.144486</td>\n",
       "      <td>...</td>\n",
       "      <td>3.702093</td>\n",
       "      <td>3.139045</td>\n",
       "      <td>3.139045</td>\n",
       "      <td>3.359816</td>\n",
       "      <td>3.359816</td>\n",
       "      <td>NaN</td>\n",
       "      <td>4.000000</td>\n",
       "      <td>Weird Science (1985)</td>\n",
       "      <td>3.285863</td>\n",
       "      <td>5758</td>\n",
       "    </tr>\n",
       "    <tr>\n",
       "      <th>4</th>\n",
       "      <td>4</td>\n",
       "      <td>2.600043</td>\n",
       "      <td>2.600043</td>\n",
       "      <td>3.240929</td>\n",
       "      <td>3.240929</td>\n",
       "      <td>2.663941</td>\n",
       "      <td>2.663941</td>\n",
       "      <td>2.237405</td>\n",
       "      <td>2.237405</td>\n",
       "      <td>2.493179</td>\n",
       "      <td>...</td>\n",
       "      <td>2.664302</td>\n",
       "      <td>2.864768</td>\n",
       "      <td>2.864768</td>\n",
       "      <td>2.411275</td>\n",
       "      <td>2.411275</td>\n",
       "      <td>2.641334</td>\n",
       "      <td>2.641334</td>\n",
       "      <td>Father of the Bride Part II (1995)</td>\n",
       "      <td>3.064592</td>\n",
       "      <td>12161</td>\n",
       "    </tr>\n",
       "    <tr>\n",
       "      <th>...</th>\n",
       "      <td>...</td>\n",
       "      <td>...</td>\n",
       "      <td>...</td>\n",
       "      <td>...</td>\n",
       "      <td>...</td>\n",
       "      <td>...</td>\n",
       "      <td>...</td>\n",
       "      <td>...</td>\n",
       "      <td>...</td>\n",
       "      <td>...</td>\n",
       "      <td>...</td>\n",
       "      <td>...</td>\n",
       "      <td>...</td>\n",
       "      <td>...</td>\n",
       "      <td>...</td>\n",
       "      <td>...</td>\n",
       "      <td>...</td>\n",
       "      <td>...</td>\n",
       "      <td>...</td>\n",
       "      <td>...</td>\n",
       "      <td>...</td>\n",
       "    </tr>\n",
       "    <tr>\n",
       "      <th>1000</th>\n",
       "      <td>1707</td>\n",
       "      <td>NaN</td>\n",
       "      <td>4.000000</td>\n",
       "      <td>4.055273</td>\n",
       "      <td>4.055273</td>\n",
       "      <td>3.203476</td>\n",
       "      <td>3.203476</td>\n",
       "      <td>3.018497</td>\n",
       "      <td>3.018497</td>\n",
       "      <td>3.679221</td>\n",
       "      <td>...</td>\n",
       "      <td>3.249094</td>\n",
       "      <td>3.197700</td>\n",
       "      <td>3.197700</td>\n",
       "      <td>3.371478</td>\n",
       "      <td>3.371478</td>\n",
       "      <td>2.730467</td>\n",
       "      <td>2.730467</td>\n",
       "      <td>Wedding Singer, The (1998)</td>\n",
       "      <td>3.410378</td>\n",
       "      <td>13384</td>\n",
       "    </tr>\n",
       "    <tr>\n",
       "      <th>1001</th>\n",
       "      <td>2995</td>\n",
       "      <td>NaN</td>\n",
       "      <td>3.000000</td>\n",
       "      <td>3.438859</td>\n",
       "      <td>3.438859</td>\n",
       "      <td>2.781632</td>\n",
       "      <td>2.781632</td>\n",
       "      <td>2.429293</td>\n",
       "      <td>2.429293</td>\n",
       "      <td>2.962882</td>\n",
       "      <td>...</td>\n",
       "      <td>3.651354</td>\n",
       "      <td>NaN</td>\n",
       "      <td>3.500000</td>\n",
       "      <td>1.991310</td>\n",
       "      <td>1.991310</td>\n",
       "      <td>2.899461</td>\n",
       "      <td>2.899461</td>\n",
       "      <td>World Is Not Enough, The (1999)</td>\n",
       "      <td>3.201607</td>\n",
       "      <td>8462</td>\n",
       "    </tr>\n",
       "    <tr>\n",
       "      <th>1002</th>\n",
       "      <td>3702</td>\n",
       "      <td>NaN</td>\n",
       "      <td>4.000000</td>\n",
       "      <td>3.964341</td>\n",
       "      <td>3.964341</td>\n",
       "      <td>3.359564</td>\n",
       "      <td>3.359564</td>\n",
       "      <td>4.126290</td>\n",
       "      <td>4.126290</td>\n",
       "      <td>3.820944</td>\n",
       "      <td>...</td>\n",
       "      <td>4.056892</td>\n",
       "      <td>NaN</td>\n",
       "      <td>3.000000</td>\n",
       "      <td>3.200771</td>\n",
       "      <td>3.200771</td>\n",
       "      <td>3.536212</td>\n",
       "      <td>3.536212</td>\n",
       "      <td>X-Men (2000)</td>\n",
       "      <td>3.599009</td>\n",
       "      <td>26846</td>\n",
       "    </tr>\n",
       "    <tr>\n",
       "      <th>1003</th>\n",
       "      <td>6234</td>\n",
       "      <td>NaN</td>\n",
       "      <td>3.000000</td>\n",
       "      <td>4.391280</td>\n",
       "      <td>4.391280</td>\n",
       "      <td>NaN</td>\n",
       "      <td>3.500000</td>\n",
       "      <td>3.745156</td>\n",
       "      <td>3.745156</td>\n",
       "      <td>4.424005</td>\n",
       "      <td>...</td>\n",
       "      <td>3.781359</td>\n",
       "      <td>3.379654</td>\n",
       "      <td>3.379654</td>\n",
       "      <td>2.943398</td>\n",
       "      <td>2.943398</td>\n",
       "      <td>3.459040</td>\n",
       "      <td>3.459040</td>\n",
       "      <td>X2: X-Men United (2003)</td>\n",
       "      <td>3.681243</td>\n",
       "      <td>15573</td>\n",
       "    </tr>\n",
       "    <tr>\n",
       "      <th>1004</th>\n",
       "      <td>4720</td>\n",
       "      <td>NaN</td>\n",
       "      <td>4.000000</td>\n",
       "      <td>3.753460</td>\n",
       "      <td>3.753460</td>\n",
       "      <td>3.417079</td>\n",
       "      <td>3.417079</td>\n",
       "      <td>4.020303</td>\n",
       "      <td>4.020303</td>\n",
       "      <td>3.546636</td>\n",
       "      <td>...</td>\n",
       "      <td>2.867113</td>\n",
       "      <td>NaN</td>\n",
       "      <td>3.500000</td>\n",
       "      <td>3.326815</td>\n",
       "      <td>3.326815</td>\n",
       "      <td>2.937616</td>\n",
       "      <td>2.937616</td>\n",
       "      <td>Zoolander (2001)</td>\n",
       "      <td>3.255634</td>\n",
       "      <td>7499</td>\n",
       "    </tr>\n",
       "  </tbody>\n",
       "</table>\n",
       "<p>1005 rows × 24 columns</p>\n",
       "</div>"
      ],
      "text/plain": [
       "      new_movie_id  prediction_user_94255  rating_user_94255  \\\n",
       "0                0               3.747471           3.747471   \n",
       "1                1               2.684155           2.684155   \n",
       "2                2               2.220494           2.220494   \n",
       "3             2050               1.932011           1.932011   \n",
       "4                4               2.600043           2.600043   \n",
       "...            ...                    ...                ...   \n",
       "1000          1707                    NaN           4.000000   \n",
       "1001          2995                    NaN           3.000000   \n",
       "1002          3702                    NaN           4.000000   \n",
       "1003          6234                    NaN           3.000000   \n",
       "1004          4720                    NaN           4.000000   \n",
       "\n",
       "      prediction_user_119899  rating_user_119899  prediction_user_137241  \\\n",
       "0                   4.768892            4.768892                4.152639   \n",
       "1                   3.299793            3.299793                2.973970   \n",
       "2                   3.597982            3.597982                3.279014   \n",
       "3                   3.915151            3.915151                3.000240   \n",
       "4                   3.240929            3.240929                2.663941   \n",
       "...                      ...                 ...                     ...   \n",
       "1000                4.055273            4.055273                3.203476   \n",
       "1001                3.438859            3.438859                2.781632   \n",
       "1002                3.964341            3.964341                3.359564   \n",
       "1003                4.391280            4.391280                     NaN   \n",
       "1004                3.753460            3.753460                3.417079   \n",
       "\n",
       "      rating_user_137241  prediction_user_34970  rating_user_34970  \\\n",
       "0               4.152639               3.672400           3.672400   \n",
       "1               2.973970               2.627982           2.627982   \n",
       "2               3.279014               2.777443           2.777443   \n",
       "3               3.000240               3.364687           3.364687   \n",
       "4               2.663941               2.237405           2.237405   \n",
       "...                  ...                    ...                ...   \n",
       "1000            3.203476               3.018497           3.018497   \n",
       "1001            2.781632               2.429293           2.429293   \n",
       "1002            3.359564               4.126290           4.126290   \n",
       "1003            3.500000               3.745156           3.745156   \n",
       "1004            3.417079               4.020303           4.020303   \n",
       "\n",
       "      prediction_user_98056  ...  rating_user_125225  prediction_user_85770  \\\n",
       "0                  4.803822  ...            4.191975                    NaN   \n",
       "1                  2.332153  ...            2.943599                    NaN   \n",
       "2                  2.464870  ...            3.052694               2.699080   \n",
       "3                  3.144486  ...            3.702093               3.139045   \n",
       "4                  2.493179  ...            2.664302               2.864768   \n",
       "...                     ...  ...                 ...                    ...   \n",
       "1000               3.679221  ...            3.249094               3.197700   \n",
       "1001               2.962882  ...            3.651354                    NaN   \n",
       "1002               3.820944  ...            4.056892                    NaN   \n",
       "1003               4.424005  ...            3.781359               3.379654   \n",
       "1004               3.546636  ...            2.867113                    NaN   \n",
       "\n",
       "      rating_user_85770  prediction_user_89354  rating_user_89354  \\\n",
       "0              3.000000                    NaN           5.000000   \n",
       "1              3.000000               3.513798           3.513798   \n",
       "2              2.699080               2.787522           2.787522   \n",
       "3              3.139045               3.359816           3.359816   \n",
       "4              2.864768               2.411275           2.411275   \n",
       "...                 ...                    ...                ...   \n",
       "1000           3.197700               3.371478           3.371478   \n",
       "1001           3.500000               1.991310           1.991310   \n",
       "1002           3.000000               3.200771           3.200771   \n",
       "1003           3.379654               2.943398           2.943398   \n",
       "1004           3.500000               3.326815           3.326815   \n",
       "\n",
       "      prediction_user_53088  rating_user_53088  \\\n",
       "0                  4.108458           4.108458   \n",
       "1                  2.840988           2.840988   \n",
       "2                  2.420418           2.420418   \n",
       "3                       NaN           4.000000   \n",
       "4                  2.641334           2.641334   \n",
       "...                     ...                ...   \n",
       "1000               2.730467           2.730467   \n",
       "1001               2.899461           2.899461   \n",
       "1002               3.536212           3.536212   \n",
       "1003               3.459040           3.459040   \n",
       "1004               2.937616           2.937616   \n",
       "\n",
       "                                   title  mean_rating  n_ratings  \n",
       "0                       Toy Story (1995)     3.921240      49695  \n",
       "1                         Jumanji (1995)     3.211977      22243  \n",
       "2                Grumpier Old Men (1995)     3.151040      12735  \n",
       "3                   Weird Science (1985)     3.285863       5758  \n",
       "4     Father of the Bride Part II (1995)     3.064592      12161  \n",
       "...                                  ...          ...        ...  \n",
       "1000          Wedding Singer, The (1998)     3.410378      13384  \n",
       "1001     World Is Not Enough, The (1999)     3.201607       8462  \n",
       "1002                        X-Men (2000)     3.599009      26846  \n",
       "1003             X2: X-Men United (2003)     3.681243      15573  \n",
       "1004                    Zoolander (2001)     3.255634       7499  \n",
       "\n",
       "[1005 rows x 24 columns]"
      ]
     },
     "execution_count": 346,
     "metadata": {},
     "output_type": "execute_result"
    }
   ],
   "source": [
    "all_predictions"
   ]
  },
  {
   "cell_type": "code",
   "execution_count": 307,
   "metadata": {},
   "outputs": [],
   "source": [
    "for user_id in dict_pred_rating_analysis:\n",
    "    all_predictions['user_' + str(user_id)] = np.where(all_predictions['rating_user_' + str(user_id)] == np.NaN,\n",
    "            all_predictions['rating_user_' + str(user_id)], all_predictions['prediction_user_' + str(user_id)])\n",
    "\n",
    "    "
   ]
  },
  {
   "cell_type": "code",
   "execution_count": 329,
   "metadata": {},
   "outputs": [],
   "source": [
    "for index, row in all_predictions.iterrows():\n",
    "    if row['rating_user_' + str(user_id)] == np.NaN:\n",
    "        row['user_' + str(user_id)] = all_predictions['prediction_user_' + str(user_id)]\n",
    "    else:\n",
    "        row['user_' + str(user_id)] = all_predictions['rating_user_' + str(user_id)]\n"
   ]
  },
  {
   "cell_type": "code",
   "execution_count": null,
   "metadata": {},
   "outputs": [],
   "source": []
  }
 ],
 "metadata": {
  "kernelspec": {
   "display_name": "Python 3.9.7 64-bit",
   "language": "python",
   "name": "python3"
  },
  "language_info": {
   "codemirror_mode": {
    "name": "ipython",
    "version": 3
   },
   "file_extension": ".py",
   "mimetype": "text/x-python",
   "name": "python",
   "nbconvert_exporter": "python",
   "pygments_lexer": "ipython3",
   "version": "3.9.7"
  },
  "orig_nbformat": 4,
  "vscode": {
   "interpreter": {
    "hash": "d59cf345f7eb61a50be9d4ac4e2f1ebe3bcc9ac18d7986d1474e11e48a2bc6c2"
   }
  }
 },
 "nbformat": 4,
 "nbformat_minor": 2
}
